{
 "cells": [
  {
   "cell_type": "code",
   "execution_count": 8,
   "metadata": {},
   "outputs": [],
   "source": [
    "import pyemma"
   ]
  },
  {
   "cell_type": "code",
   "execution_count": 176,
   "metadata": {
    "scrolled": false
   },
   "outputs": [
    {
     "name": "stderr",
     "output_type": "stream",
     "text": [
      "C:\\Users\\Seldon\\AppData\\Local\\conda\\conda\\envs\\py36\\lib\\site-packages\\ipykernel_launcher.py:19: DeprecationWarning: This function is deprecated. Please call randint(0, 4 + 1) instead\n",
      "C:\\Users\\Seldon\\AppData\\Local\\conda\\conda\\envs\\py36\\lib\\site-packages\\ipykernel_launcher.py:28: DeprecationWarning: This function is deprecated. Please call randint(0, 2 + 1) instead\n",
      "C:\\Users\\Seldon\\AppData\\Local\\conda\\conda\\envs\\py36\\lib\\site-packages\\ipykernel_launcher.py:28: DeprecationWarning: This function is deprecated. Please call randint(0, 3 + 1) instead\n",
      "C:\\Users\\Seldon\\AppData\\Local\\conda\\conda\\envs\\py36\\lib\\site-packages\\ipykernel_launcher.py:28: DeprecationWarning: This function is deprecated. Please call randint(0, 1 + 1) instead\n"
     ]
    },
    {
     "data": {
      "image/png": "[encoded data removed]",
      "text/plain": [
       "<matplotlib.figure.Figure at 0x18991991898>"
      ]
     },
     "metadata": {},
     "output_type": "display_data"
    },
    {
     "name": "stdout",
     "output_type": "stream",
     "text": [
      "[[1 0 1 1 1 1 1 1 1]\n",
      " [1 0 0 0 0 0 0 0 1]\n",
      " [1 0 1 0 1 1 1 0 1]\n",
      " [1 0 1 0 1 0 1 0 1]\n",
      " [1 0 1 0 1 0 1 0 1]\n",
      " [1 0 1 0 1 0 1 0 1]\n",
      " [1 0 1 1 1 0 1 1 1]\n",
      " [1 0 0 0 0 0 0 0 0]\n",
      " [1 1 1 1 1 1 1 1 1]]\n"
     ]
    }
   ],
   "source": [
    "import numpy\n",
    "from numpy.random import random_integers as randint\n",
    "import matplotlib.pyplot as pyplot\n",
    "\n",
    "def maze(width=50, height=50, complexity=.75, density=.75):\n",
    "    # Only odd shapes\n",
    "    shape = ((height // 2) * 2 + 1, (width // 2) * 2 + 1)\n",
    "    # Adjust complexity and density relative to maze size\n",
    "    complexity = int(complexity * (5 * (shape[0] + shape[1])))\n",
    "    density    = int(density * ((shape[0] // 2) * (shape[1] // 2)))\n",
    "    # Build actual maze\n",
    "    Z = numpy.zeros(shape, dtype=int)\n",
    "    # Fill borders\n",
    "    Z[0, :] = Z[-1, :] = 1\n",
    "    Z[:, 0] = Z[:, -1] = 1\n",
    "    Z[0, 1] = Z[height-1,width] = 0\n",
    "    # Make aisles\n",
    "    for i in range(density):\n",
    "        x, y = randint(0, shape[1] // 2) * 2, randint(0, shape[0] // 2) * 2\n",
    "        Z[y, x] = 1\n",
    "        for j in range(complexity):\n",
    "            neighbours = []\n",
    "            if x > 1:             neighbours.append((y, x - 2))\n",
    "            if x < shape[1] - 2:  neighbours.append((y, x + 2))\n",
    "            if y > 1:             neighbours.append((y - 2, x))\n",
    "            if y < shape[0] - 2:  neighbours.append((y + 2, x))\n",
    "            if len(neighbours):\n",
    "                y_,x_ = neighbours[randint(0, len(neighbours) - 1)]\n",
    "                if Z[y_, x_] == 0:\n",
    "                    Z[y_, x_] = 1\n",
    "                    Z[y_ + (y - y_) // 2, x_ + (x - x_) // 2] = 1\n",
    "                    x, y = x_, y_\n",
    "    return Z\n",
    "#    for x in range(width):\n",
    "#        for y in range(height):\n",
    "#           if Z[]\n",
    "height=9\n",
    "width=9\n",
    "M=maze(height-1,width-1)\n",
    "pyplot.figure(figsize=(5, 5))\n",
    "pyplot.imshow(M, cmap=pyplot.cm.binary, interpolation='nearest')\n",
    "pyplot.xticks([]), pyplot.yticks([])\n",
    "pyplot.show()\n",
    "print(M)"
   ]
  },
  {
   "cell_type": "code",
   "execution_count": 182,
   "metadata": {},
   "outputs": [
    {
     "name": "stdout",
     "output_type": "stream",
     "text": [
      "[[ 0.  0.  0. ...,  0.  0.  0.]\n",
      " [ 0.  0.  0. ...,  0.  0.  0.]\n",
      " [ 0.  0.  0. ...,  0.  0.  0.]\n",
      " ..., \n",
      " [ 0.  0.  0. ...,  0.  0.  0.]\n",
      " [ 0.  0.  0. ...,  0.  0.  0.]\n",
      " [ 0.  0.  0. ...,  0.  0.  0.]]\n",
      "[ 0.  1.  0.  0.  0.  0.  0.  0.  0.  0.  1.  1.  1.  1.  1.  1.  1.  0.\n",
      "  0.  1.  0.  1.  0.  0.  0.  1.  0.  0.  1.  0.  1.  0.  1.  0.  1.  0.\n",
      "  0.  1.  0.  1.  0.  1.  0.  1.  0.  0.  1.  0.  1.  0.  1.  0.  1.  0.\n",
      "  0.  1.  0.  0.  0.  1.  0.  0.  0.  0.  1.  1.  1.  1.  1.  1.  1.  1.\n",
      "  0.  0.  0.  0.  0.  0.  0.  0.  0.]\n"
     ]
    },
    {
     "name": "stderr",
     "output_type": "stream",
     "text": [
      "C:\\Users\\Seldon\\AppData\\Local\\conda\\conda\\envs\\py36\\lib\\site-packages\\ipykernel_launcher.py:23: RuntimeWarning: invalid value encountered in true_divide\n"
     ]
    }
   ],
   "source": [
    "s=(height*width,width*height)\n",
    "T=numpy.ones(s)\n",
    "\n",
    "for i in range(width):\n",
    "    for j in range(height):\n",
    "        if M[i][j] == 1:\n",
    "            for m in range(s[0]):\n",
    "                for n in range(s[1]):\n",
    "                    T[i*width+j][n]=0\n",
    "                    T[m][i*width+j]=0\n",
    "                    if m==n:\n",
    "                        T[m][n]=0\n",
    "                    modm= m % 2\n",
    "                    modn= n % 2\n",
    "                    if modm==modn:\n",
    "                        T[m][n]=0\n",
    "                        \n",
    "                        \n",
    "                        \n",
    "def weird_division(n, d):\n",
    "    return n / d if d else 0\n",
    "for row in range(T.shape[0]):\n",
    "    T[row] /= np.sum(T[row])\n",
    "T=np.nan_to_num(T)\n",
    "print(T)\n",
    "print(T.sum(axis=1))"
   ]
  },
  {
   "cell_type": "code",
   "execution_count": 3,
   "metadata": {},
   "outputs": [
    {
     "name": "stdout",
     "output_type": "stream",
     "text": [
      "kenich\n"
     ]
    }
   ],
   "source": [
    "print(\"kenich\")"
   ]
  },
  {
   "cell_type": "code",
   "execution_count": null,
   "metadata": {},
   "outputs": [],
   "source": []
  }
 ],
 "metadata": {
  "kernelspec": {
   "display_name": "Python 3",
   "language": "python",
   "name": "python3"
  },
  "language_info": {
   "codemirror_mode": {
    "name": "ipython",
    "version": 3
   },
   "file_extension": ".py",
   "mimetype": "text/x-python",
   "name": "python",
   "nbconvert_exporter": "python",
   "pygments_lexer": "ipython3",
   "version": "3.6.4"
  }
 },
 "nbformat": 4,
 "nbformat_minor": 2
}
